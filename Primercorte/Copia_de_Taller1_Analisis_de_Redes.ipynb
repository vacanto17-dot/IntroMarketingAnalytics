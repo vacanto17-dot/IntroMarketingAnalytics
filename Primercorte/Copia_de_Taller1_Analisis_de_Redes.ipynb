{
  "nbformat": 4,
  "nbformat_minor": 0,
  "metadata": {
    "colab": {
      "provenance": []
    },
    "kernelspec": {
      "name": "python3",
      "display_name": "Python 3"
    },
    "language_info": {
      "name": "python"
    }
  },
  "cells": [
    {
      "cell_type": "markdown",
      "source": [
        "## ADDIDAS ANALISIS"
      ],
      "metadata": {
        "id": "uT0832q-kArY"
      }
    },
    {
      "cell_type": "code",
      "execution_count": 3,
      "metadata": {
        "colab": {
          "base_uri": "https://localhost:8080/"
        },
        "id": "LzdR1BxgaAfE",
        "outputId": "d8c6636d-ae06-4ab1-bc25-41b3c0c15e8d"
      },
      "outputs": [
        {
          "output_type": "stream",
          "name": "stdout",
          "text": [
            "--2025-09-10 18:55:32--  https://github.com/prayagpadwal/Adidas-Sales-Analysis/raw/main/Adidas%20US%20Sales%20Datasets.xlsx\n",
            "Resolving github.com (github.com)... 140.82.112.4\n",
            "Connecting to github.com (github.com)|140.82.112.4|:443... connected.\n",
            "HTTP request sent, awaiting response... 302 Found\n",
            "Location: https://raw.githubusercontent.com/prayagpadwal/Adidas-Sales-Analysis/main/Adidas%20US%20Sales%20Datasets.xlsx [following]\n",
            "--2025-09-10 18:55:32--  https://raw.githubusercontent.com/prayagpadwal/Adidas-Sales-Analysis/main/Adidas%20US%20Sales%20Datasets.xlsx\n",
            "Resolving raw.githubusercontent.com (raw.githubusercontent.com)... 185.199.108.133, 185.199.109.133, 185.199.110.133, ...\n",
            "Connecting to raw.githubusercontent.com (raw.githubusercontent.com)|185.199.108.133|:443... connected.\n",
            "HTTP request sent, awaiting response... 200 OK\n",
            "Length: 693038 (677K) [application/octet-stream]\n",
            "Saving to: ‘Adidas US Sales Datasets.xlsx’\n",
            "\n",
            "\r          Adidas US   0%[                    ]       0  --.-KB/s               \rAdidas US Sales Dat 100%[===================>] 676.79K  --.-KB/s    in 0.009s  \n",
            "\n",
            "2025-09-10 18:55:32 (70.4 MB/s) - ‘Adidas US Sales Datasets.xlsx’ saved [693038/693038]\n",
            "\n"
          ]
        }
      ],
      "source": [
        "!wget https://github.com/prayagpadwal/Adidas-Sales-Analysis/raw/main/Adidas%20US%20Sales%20Datasets.xlsx"
      ]
    },
    {
      "cell_type": "code",
      "source": [
        "import pandas as pd\n",
        "data = pd.read_excel(\"Adidas US Sales Datasets.xlsx\")"
      ],
      "metadata": {
        "id": "7On1YDxqbXzc"
      },
      "execution_count": 4,
      "outputs": []
    },
    {
      "cell_type": "code",
      "source": [
        "data.head(3)"
      ],
      "metadata": {
        "colab": {
          "base_uri": "https://localhost:8080/",
          "height": 144
        },
        "id": "gOCTKTKJb4WE",
        "outputId": "bbb7fb21-fc72-47eb-8001-324f70332889"
      },
      "execution_count": 5,
      "outputs": [
        {
          "output_type": "execute_result",
          "data": {
            "text/plain": [
              "      Retailer  Retailer ID Invoice Date     Region     State      City  \\\n",
              "0  Foot Locker      1185732   2020-01-01  Northeast  New York  New York   \n",
              "1  Foot Locker      1185732   2020-01-02  Northeast  New York  New York   \n",
              "2  Foot Locker      1185732   2020-01-03  Northeast  New York  New York   \n",
              "\n",
              "                   Product  Price per Unit  Units Sold  Total Sales  \\\n",
              "0    Men's Street Footwear            50.0        1200     600000.0   \n",
              "1  Men's Athletic Footwear            50.0        1000     500000.0   \n",
              "2  Women's Street Footwear            40.0        1000     400000.0   \n",
              "\n",
              "   Operating Profit  Operating Margin Sales Method  \n",
              "0          300000.0              0.50     In-store  \n",
              "1          150000.0              0.30     In-store  \n",
              "2          140000.0              0.35     In-store  "
            ],
            "text/html": [
              "\n",
              "  <div id=\"df-c1704452-a6b3-490d-9c48-cd41cfec5177\" class=\"colab-df-container\">\n",
              "    <div>\n",
              "<style scoped>\n",
              "    .dataframe tbody tr th:only-of-type {\n",
              "        vertical-align: middle;\n",
              "    }\n",
              "\n",
              "    .dataframe tbody tr th {\n",
              "        vertical-align: top;\n",
              "    }\n",
              "\n",
              "    .dataframe thead th {\n",
              "        text-align: right;\n",
              "    }\n",
              "</style>\n",
              "<table border=\"1\" class=\"dataframe\">\n",
              "  <thead>\n",
              "    <tr style=\"text-align: right;\">\n",
              "      <th></th>\n",
              "      <th>Retailer</th>\n",
              "      <th>Retailer ID</th>\n",
              "      <th>Invoice Date</th>\n",
              "      <th>Region</th>\n",
              "      <th>State</th>\n",
              "      <th>City</th>\n",
              "      <th>Product</th>\n",
              "      <th>Price per Unit</th>\n",
              "      <th>Units Sold</th>\n",
              "      <th>Total Sales</th>\n",
              "      <th>Operating Profit</th>\n",
              "      <th>Operating Margin</th>\n",
              "      <th>Sales Method</th>\n",
              "    </tr>\n",
              "  </thead>\n",
              "  <tbody>\n",
              "    <tr>\n",
              "      <th>0</th>\n",
              "      <td>Foot Locker</td>\n",
              "      <td>1185732</td>\n",
              "      <td>2020-01-01</td>\n",
              "      <td>Northeast</td>\n",
              "      <td>New York</td>\n",
              "      <td>New York</td>\n",
              "      <td>Men's Street Footwear</td>\n",
              "      <td>50.0</td>\n",
              "      <td>1200</td>\n",
              "      <td>600000.0</td>\n",
              "      <td>300000.0</td>\n",
              "      <td>0.50</td>\n",
              "      <td>In-store</td>\n",
              "    </tr>\n",
              "    <tr>\n",
              "      <th>1</th>\n",
              "      <td>Foot Locker</td>\n",
              "      <td>1185732</td>\n",
              "      <td>2020-01-02</td>\n",
              "      <td>Northeast</td>\n",
              "      <td>New York</td>\n",
              "      <td>New York</td>\n",
              "      <td>Men's Athletic Footwear</td>\n",
              "      <td>50.0</td>\n",
              "      <td>1000</td>\n",
              "      <td>500000.0</td>\n",
              "      <td>150000.0</td>\n",
              "      <td>0.30</td>\n",
              "      <td>In-store</td>\n",
              "    </tr>\n",
              "    <tr>\n",
              "      <th>2</th>\n",
              "      <td>Foot Locker</td>\n",
              "      <td>1185732</td>\n",
              "      <td>2020-01-03</td>\n",
              "      <td>Northeast</td>\n",
              "      <td>New York</td>\n",
              "      <td>New York</td>\n",
              "      <td>Women's Street Footwear</td>\n",
              "      <td>40.0</td>\n",
              "      <td>1000</td>\n",
              "      <td>400000.0</td>\n",
              "      <td>140000.0</td>\n",
              "      <td>0.35</td>\n",
              "      <td>In-store</td>\n",
              "    </tr>\n",
              "  </tbody>\n",
              "</table>\n",
              "</div>\n",
              "    <div class=\"colab-df-buttons\">\n",
              "\n",
              "  <div class=\"colab-df-container\">\n",
              "    <button class=\"colab-df-convert\" onclick=\"convertToInteractive('df-c1704452-a6b3-490d-9c48-cd41cfec5177')\"\n",
              "            title=\"Convert this dataframe to an interactive table.\"\n",
              "            style=\"display:none;\">\n",
              "\n",
              "  <svg xmlns=\"http://www.w3.org/2000/svg\" height=\"24px\" viewBox=\"0 -960 960 960\">\n",
              "    <path d=\"M120-120v-720h720v720H120Zm60-500h600v-160H180v160Zm220 220h160v-160H400v160Zm0 220h160v-160H400v160ZM180-400h160v-160H180v160Zm440 0h160v-160H620v160ZM180-180h160v-160H180v160Zm440 0h160v-160H620v160Z\"/>\n",
              "  </svg>\n",
              "    </button>\n",
              "\n",
              "  <style>\n",
              "    .colab-df-container {\n",
              "      display:flex;\n",
              "      gap: 12px;\n",
              "    }\n",
              "\n",
              "    .colab-df-convert {\n",
              "      background-color: #E8F0FE;\n",
              "      border: none;\n",
              "      border-radius: 50%;\n",
              "      cursor: pointer;\n",
              "      display: none;\n",
              "      fill: #1967D2;\n",
              "      height: 32px;\n",
              "      padding: 0 0 0 0;\n",
              "      width: 32px;\n",
              "    }\n",
              "\n",
              "    .colab-df-convert:hover {\n",
              "      background-color: #E2EBFA;\n",
              "      box-shadow: 0px 1px 2px rgba(60, 64, 67, 0.3), 0px 1px 3px 1px rgba(60, 64, 67, 0.15);\n",
              "      fill: #174EA6;\n",
              "    }\n",
              "\n",
              "    .colab-df-buttons div {\n",
              "      margin-bottom: 4px;\n",
              "    }\n",
              "\n",
              "    [theme=dark] .colab-df-convert {\n",
              "      background-color: #3B4455;\n",
              "      fill: #D2E3FC;\n",
              "    }\n",
              "\n",
              "    [theme=dark] .colab-df-convert:hover {\n",
              "      background-color: #434B5C;\n",
              "      box-shadow: 0px 1px 3px 1px rgba(0, 0, 0, 0.15);\n",
              "      filter: drop-shadow(0px 1px 2px rgba(0, 0, 0, 0.3));\n",
              "      fill: #FFFFFF;\n",
              "    }\n",
              "  </style>\n",
              "\n",
              "    <script>\n",
              "      const buttonEl =\n",
              "        document.querySelector('#df-c1704452-a6b3-490d-9c48-cd41cfec5177 button.colab-df-convert');\n",
              "      buttonEl.style.display =\n",
              "        google.colab.kernel.accessAllowed ? 'block' : 'none';\n",
              "\n",
              "      async function convertToInteractive(key) {\n",
              "        const element = document.querySelector('#df-c1704452-a6b3-490d-9c48-cd41cfec5177');\n",
              "        const dataTable =\n",
              "          await google.colab.kernel.invokeFunction('convertToInteractive',\n",
              "                                                    [key], {});\n",
              "        if (!dataTable) return;\n",
              "\n",
              "        const docLinkHtml = 'Like what you see? Visit the ' +\n",
              "          '<a target=\"_blank\" href=https://colab.research.google.com/notebooks/data_table.ipynb>data table notebook</a>'\n",
              "          + ' to learn more about interactive tables.';\n",
              "        element.innerHTML = '';\n",
              "        dataTable['output_type'] = 'display_data';\n",
              "        await google.colab.output.renderOutput(dataTable, element);\n",
              "        const docLink = document.createElement('div');\n",
              "        docLink.innerHTML = docLinkHtml;\n",
              "        element.appendChild(docLink);\n",
              "      }\n",
              "    </script>\n",
              "  </div>\n",
              "\n",
              "\n",
              "    <div id=\"df-78ec3a29-53e1-437b-83c6-6232d827e051\">\n",
              "      <button class=\"colab-df-quickchart\" onclick=\"quickchart('df-78ec3a29-53e1-437b-83c6-6232d827e051')\"\n",
              "                title=\"Suggest charts\"\n",
              "                style=\"display:none;\">\n",
              "\n",
              "<svg xmlns=\"http://www.w3.org/2000/svg\" height=\"24px\"viewBox=\"0 0 24 24\"\n",
              "     width=\"24px\">\n",
              "    <g>\n",
              "        <path d=\"M19 3H5c-1.1 0-2 .9-2 2v14c0 1.1.9 2 2 2h14c1.1 0 2-.9 2-2V5c0-1.1-.9-2-2-2zM9 17H7v-7h2v7zm4 0h-2V7h2v10zm4 0h-2v-4h2v4z\"/>\n",
              "    </g>\n",
              "</svg>\n",
              "      </button>\n",
              "\n",
              "<style>\n",
              "  .colab-df-quickchart {\n",
              "      --bg-color: #E8F0FE;\n",
              "      --fill-color: #1967D2;\n",
              "      --hover-bg-color: #E2EBFA;\n",
              "      --hover-fill-color: #174EA6;\n",
              "      --disabled-fill-color: #AAA;\n",
              "      --disabled-bg-color: #DDD;\n",
              "  }\n",
              "\n",
              "  [theme=dark] .colab-df-quickchart {\n",
              "      --bg-color: #3B4455;\n",
              "      --fill-color: #D2E3FC;\n",
              "      --hover-bg-color: #434B5C;\n",
              "      --hover-fill-color: #FFFFFF;\n",
              "      --disabled-bg-color: #3B4455;\n",
              "      --disabled-fill-color: #666;\n",
              "  }\n",
              "\n",
              "  .colab-df-quickchart {\n",
              "    background-color: var(--bg-color);\n",
              "    border: none;\n",
              "    border-radius: 50%;\n",
              "    cursor: pointer;\n",
              "    display: none;\n",
              "    fill: var(--fill-color);\n",
              "    height: 32px;\n",
              "    padding: 0;\n",
              "    width: 32px;\n",
              "  }\n",
              "\n",
              "  .colab-df-quickchart:hover {\n",
              "    background-color: var(--hover-bg-color);\n",
              "    box-shadow: 0 1px 2px rgba(60, 64, 67, 0.3), 0 1px 3px 1px rgba(60, 64, 67, 0.15);\n",
              "    fill: var(--button-hover-fill-color);\n",
              "  }\n",
              "\n",
              "  .colab-df-quickchart-complete:disabled,\n",
              "  .colab-df-quickchart-complete:disabled:hover {\n",
              "    background-color: var(--disabled-bg-color);\n",
              "    fill: var(--disabled-fill-color);\n",
              "    box-shadow: none;\n",
              "  }\n",
              "\n",
              "  .colab-df-spinner {\n",
              "    border: 2px solid var(--fill-color);\n",
              "    border-color: transparent;\n",
              "    border-bottom-color: var(--fill-color);\n",
              "    animation:\n",
              "      spin 1s steps(1) infinite;\n",
              "  }\n",
              "\n",
              "  @keyframes spin {\n",
              "    0% {\n",
              "      border-color: transparent;\n",
              "      border-bottom-color: var(--fill-color);\n",
              "      border-left-color: var(--fill-color);\n",
              "    }\n",
              "    20% {\n",
              "      border-color: transparent;\n",
              "      border-left-color: var(--fill-color);\n",
              "      border-top-color: var(--fill-color);\n",
              "    }\n",
              "    30% {\n",
              "      border-color: transparent;\n",
              "      border-left-color: var(--fill-color);\n",
              "      border-top-color: var(--fill-color);\n",
              "      border-right-color: var(--fill-color);\n",
              "    }\n",
              "    40% {\n",
              "      border-color: transparent;\n",
              "      border-right-color: var(--fill-color);\n",
              "      border-top-color: var(--fill-color);\n",
              "    }\n",
              "    60% {\n",
              "      border-color: transparent;\n",
              "      border-right-color: var(--fill-color);\n",
              "    }\n",
              "    80% {\n",
              "      border-color: transparent;\n",
              "      border-right-color: var(--fill-color);\n",
              "      border-bottom-color: var(--fill-color);\n",
              "    }\n",
              "    90% {\n",
              "      border-color: transparent;\n",
              "      border-bottom-color: var(--fill-color);\n",
              "    }\n",
              "  }\n",
              "</style>\n",
              "\n",
              "      <script>\n",
              "        async function quickchart(key) {\n",
              "          const quickchartButtonEl =\n",
              "            document.querySelector('#' + key + ' button');\n",
              "          quickchartButtonEl.disabled = true;  // To prevent multiple clicks.\n",
              "          quickchartButtonEl.classList.add('colab-df-spinner');\n",
              "          try {\n",
              "            const charts = await google.colab.kernel.invokeFunction(\n",
              "                'suggestCharts', [key], {});\n",
              "          } catch (error) {\n",
              "            console.error('Error during call to suggestCharts:', error);\n",
              "          }\n",
              "          quickchartButtonEl.classList.remove('colab-df-spinner');\n",
              "          quickchartButtonEl.classList.add('colab-df-quickchart-complete');\n",
              "        }\n",
              "        (() => {\n",
              "          let quickchartButtonEl =\n",
              "            document.querySelector('#df-78ec3a29-53e1-437b-83c6-6232d827e051 button');\n",
              "          quickchartButtonEl.style.display =\n",
              "            google.colab.kernel.accessAllowed ? 'block' : 'none';\n",
              "        })();\n",
              "      </script>\n",
              "    </div>\n",
              "\n",
              "    </div>\n",
              "  </div>\n"
            ],
            "application/vnd.google.colaboratory.intrinsic+json": {
              "type": "dataframe",
              "variable_name": "data",
              "summary": "{\n  \"name\": \"data\",\n  \"rows\": 9648,\n  \"fields\": [\n    {\n      \"column\": \"Retailer\",\n      \"properties\": {\n        \"dtype\": \"category\",\n        \"num_unique_values\": 6,\n        \"samples\": [\n          \"Foot Locker\",\n          \"Walmart\",\n          \"Amazon\"\n        ],\n        \"semantic_type\": \"\",\n        \"description\": \"\"\n      }\n    },\n    {\n      \"column\": \"Retailer ID\",\n      \"properties\": {\n        \"dtype\": \"number\",\n        \"std\": 26360,\n        \"min\": 1128299,\n        \"max\": 1197831,\n        \"num_unique_values\": 4,\n        \"samples\": [\n          1197831,\n          1189833,\n          1185732\n        ],\n        \"semantic_type\": \"\",\n        \"description\": \"\"\n      }\n    },\n    {\n      \"column\": \"Invoice Date\",\n      \"properties\": {\n        \"dtype\": \"date\",\n        \"min\": \"2020-01-01 00:00:00\",\n        \"max\": \"2021-12-31 00:00:00\",\n        \"num_unique_values\": 724,\n        \"samples\": [\n          \"2021-07-12 00:00:00\",\n          \"2020-02-18 00:00:00\",\n          \"2020-04-12 00:00:00\"\n        ],\n        \"semantic_type\": \"\",\n        \"description\": \"\"\n      }\n    },\n    {\n      \"column\": \"Region\",\n      \"properties\": {\n        \"dtype\": \"category\",\n        \"num_unique_values\": 5,\n        \"samples\": [\n          \"South\",\n          \"Southeast\",\n          \"West\"\n        ],\n        \"semantic_type\": \"\",\n        \"description\": \"\"\n      }\n    },\n    {\n      \"column\": \"State\",\n      \"properties\": {\n        \"dtype\": \"category\",\n        \"num_unique_values\": 50,\n        \"samples\": [\n          \"Alabama\",\n          \"Wisconsin\",\n          \"Ohio\"\n        ],\n        \"semantic_type\": \"\",\n        \"description\": \"\"\n      }\n    },\n    {\n      \"column\": \"City\",\n      \"properties\": {\n        \"dtype\": \"category\",\n        \"num_unique_values\": 52,\n        \"samples\": [\n          \"Orlando\",\n          \"Des Moines\",\n          \"Hartford\"\n        ],\n        \"semantic_type\": \"\",\n        \"description\": \"\"\n      }\n    },\n    {\n      \"column\": \"Product\",\n      \"properties\": {\n        \"dtype\": \"category\",\n        \"num_unique_values\": 6,\n        \"samples\": [\n          \"Men's Street Footwear\",\n          \"Men's Athletic Footwear\",\n          \"Women's Apparel\"\n        ],\n        \"semantic_type\": \"\",\n        \"description\": \"\"\n      }\n    },\n    {\n      \"column\": \"Price per Unit\",\n      \"properties\": {\n        \"dtype\": \"number\",\n        \"std\": 14.705397125008178,\n        \"min\": 7.0,\n        \"max\": 110.00000000000001,\n        \"num_unique_values\": 146,\n        \"samples\": [\n          90.0,\n          38.0,\n          90.00000000000001\n        ],\n        \"semantic_type\": \"\",\n        \"description\": \"\"\n      }\n    },\n    {\n      \"column\": \"Units Sold\",\n      \"properties\": {\n        \"dtype\": \"number\",\n        \"std\": 214,\n        \"min\": 0,\n        \"max\": 1275,\n        \"num_unique_values\": 361,\n        \"samples\": [\n          156,\n          475,\n          1075\n        ],\n        \"semantic_type\": \"\",\n        \"description\": \"\"\n      }\n    },\n    {\n      \"column\": \"Total Sales\",\n      \"properties\": {\n        \"dtype\": \"number\",\n        \"std\": 141916.01672683068,\n        \"min\": 0.0,\n        \"max\": 825000.0000000001,\n        \"num_unique_values\": 3512,\n        \"samples\": [\n          248000.0,\n          2997.0,\n          20212.0\n        ],\n        \"semantic_type\": \"\",\n        \"description\": \"\"\n      }\n    },\n    {\n      \"column\": \"Operating Profit\",\n      \"properties\": {\n        \"dtype\": \"number\",\n        \"std\": 54193.113713232204,\n        \"min\": 0.0,\n        \"max\": 390000.0,\n        \"num_unique_values\": 6510,\n        \"samples\": [\n          57749.99999999999,\n          486.72,\n          393.29999999999995\n        ],\n        \"semantic_type\": \"\",\n        \"description\": \"\"\n      }\n    },\n    {\n      \"column\": \"Operating Margin\",\n      \"properties\": {\n        \"dtype\": \"number\",\n        \"std\": 0.09719741850510741,\n        \"min\": 0.1,\n        \"max\": 0.8000000000000002,\n        \"num_unique_values\": 127,\n        \"samples\": [\n          0.62,\n          0.17,\n          0.7500000000000001\n        ],\n        \"semantic_type\": \"\",\n        \"description\": \"\"\n      }\n    },\n    {\n      \"column\": \"Sales Method\",\n      \"properties\": {\n        \"dtype\": \"category\",\n        \"num_unique_values\": 3,\n        \"samples\": [\n          \"In-store\",\n          \"Outlet\",\n          \"Online\"\n        ],\n        \"semantic_type\": \"\",\n        \"description\": \"\"\n      }\n    }\n  ]\n}"
            }
          },
          "metadata": {},
          "execution_count": 5
        }
      ]
    },
    {
      "cell_type": "markdown",
      "source": [
        "0. Cuantas filas y columnas tiene la tabla?"
      ],
      "metadata": {
        "id": "K2vRav6wboQY"
      }
    },
    {
      "cell_type": "code",
      "source": [
        "data.shape"
      ],
      "metadata": {
        "id": "Hxw-Ouzgbw9v",
        "outputId": "1ae34c17-4d01-4439-92cf-b7dc2804c704",
        "colab": {
          "base_uri": "https://localhost:8080/"
        }
      },
      "execution_count": 6,
      "outputs": [
        {
          "output_type": "execute_result",
          "data": {
            "text/plain": [
              "(9648, 13)"
            ]
          },
          "metadata": {},
          "execution_count": 6
        }
      ]
    },
    {
      "cell_type": "markdown",
      "source": [
        "0.1 Cual es la unidad de observación de la tabla?"
      ],
      "metadata": {
        "id": "hvV7YNu2bsdP"
      }
    },
    {
      "cell_type": "markdown",
      "source": [
        "Esta clasificado con diferentes facturas en una mismo retail"
      ],
      "metadata": {
        "id": "oJEWIK7xOeti"
      }
    },
    {
      "cell_type": "markdown",
      "source": [
        "1. Cuales fueron las ventas totales?"
      ],
      "metadata": {
        "id": "vxcGIEUEcsvv"
      }
    },
    {
      "cell_type": "code",
      "source": [
        "data['Total Sales'].sum()"
      ],
      "metadata": {
        "id": "SdqqpyrTc4LK",
        "outputId": "0590e98d-7f11-40c6-b9e4-8aac7d0898da",
        "colab": {
          "base_uri": "https://localhost:8080/"
        }
      },
      "execution_count": 7,
      "outputs": [
        {
          "output_type": "execute_result",
          "data": {
            "text/plain": [
              "np.float64(899902125.0)"
            ]
          },
          "metadata": {},
          "execution_count": 7
        }
      ]
    },
    {
      "cell_type": "markdown",
      "source": [
        "1.1 Cuanto fue la ganancia operacional total?"
      ],
      "metadata": {
        "id": "J21TAd4ucz50"
      }
    },
    {
      "cell_type": "code",
      "source": [
        "data['Operating Profit'].sum()"
      ],
      "metadata": {
        "id": "MHiFtHy9dBX8",
        "outputId": "20ff8ea9-8c5f-4964-8458-b81e406c988c",
        "colab": {
          "base_uri": "https://localhost:8080/"
        }
      },
      "execution_count": 8,
      "outputs": [
        {
          "output_type": "execute_result",
          "data": {
            "text/plain": [
              "np.float64(332134761.45000005)"
            ]
          },
          "metadata": {},
          "execution_count": 8
        }
      ]
    },
    {
      "cell_type": "markdown",
      "source": [
        "1.2 Cuanto fue el margen promedio total ?"
      ],
      "metadata": {
        "id": "Bmi_HUupc5hF"
      }
    },
    {
      "cell_type": "code",
      "source": [
        "data['Operating Margin'].mean()"
      ],
      "metadata": {
        "id": "0Ki_c74WdLcn",
        "outputId": "d9d822ca-338d-479a-ded0-c7f171239252",
        "colab": {
          "base_uri": "https://localhost:8080/"
        }
      },
      "execution_count": 9,
      "outputs": [
        {
          "output_type": "execute_result",
          "data": {
            "text/plain": [
              "np.float64(0.42299129353233833)"
            ]
          },
          "metadata": {},
          "execution_count": 9
        }
      ]
    },
    {
      "cell_type": "markdown",
      "source": [
        "1.3 Por que el margen promedio y no el total. Explique con palabras"
      ],
      "metadata": {
        "id": "wKxBQAG-dYB5"
      }
    },
    {
      "cell_type": "markdown",
      "source": [
        "El margen total no tiene sentido, debido a que cada factura o producto tiene un margen unico, el sumarlos realmente no nos da un valor logico, en cambio el promedio nos habla del rendimiento de cada producto"
      ],
      "metadata": {
        "id": "Qx3o6sgJRdy7"
      }
    },
    {
      "cell_type": "markdown",
      "source": [
        "2. Cuales fueron las ventas totales por Retailer?"
      ],
      "metadata": {
        "id": "sbRuC9tcdeJH"
      }
    },
    {
      "cell_type": "code",
      "source": [
        "data.groupby(\"Retailer\")[\"Total Sales\"].sum()"
      ],
      "metadata": {
        "id": "_PKizqqNdjYb",
        "colab": {
          "base_uri": "https://localhost:8080/",
          "height": 304
        },
        "outputId": "08c1a453-c3f4-4090-fa62-8cb39c065b0a"
      },
      "execution_count": 10,
      "outputs": [
        {
          "output_type": "execute_result",
          "data": {
            "text/plain": [
              "Retailer\n",
              "Amazon            77698912.0\n",
              "Foot Locker      220094720.0\n",
              "Kohl's           102114753.0\n",
              "Sports Direct    182470997.0\n",
              "Walmart           74558410.0\n",
              "West Gear        242964333.0\n",
              "Name: Total Sales, dtype: float64"
            ],
            "text/html": [
              "<div>\n",
              "<style scoped>\n",
              "    .dataframe tbody tr th:only-of-type {\n",
              "        vertical-align: middle;\n",
              "    }\n",
              "\n",
              "    .dataframe tbody tr th {\n",
              "        vertical-align: top;\n",
              "    }\n",
              "\n",
              "    .dataframe thead th {\n",
              "        text-align: right;\n",
              "    }\n",
              "</style>\n",
              "<table border=\"1\" class=\"dataframe\">\n",
              "  <thead>\n",
              "    <tr style=\"text-align: right;\">\n",
              "      <th></th>\n",
              "      <th>Total Sales</th>\n",
              "    </tr>\n",
              "    <tr>\n",
              "      <th>Retailer</th>\n",
              "      <th></th>\n",
              "    </tr>\n",
              "  </thead>\n",
              "  <tbody>\n",
              "    <tr>\n",
              "      <th>Amazon</th>\n",
              "      <td>77698912.0</td>\n",
              "    </tr>\n",
              "    <tr>\n",
              "      <th>Foot Locker</th>\n",
              "      <td>220094720.0</td>\n",
              "    </tr>\n",
              "    <tr>\n",
              "      <th>Kohl's</th>\n",
              "      <td>102114753.0</td>\n",
              "    </tr>\n",
              "    <tr>\n",
              "      <th>Sports Direct</th>\n",
              "      <td>182470997.0</td>\n",
              "    </tr>\n",
              "    <tr>\n",
              "      <th>Walmart</th>\n",
              "      <td>74558410.0</td>\n",
              "    </tr>\n",
              "    <tr>\n",
              "      <th>West Gear</th>\n",
              "      <td>242964333.0</td>\n",
              "    </tr>\n",
              "  </tbody>\n",
              "</table>\n",
              "</div><br><label><b>dtype:</b> float64</label>"
            ]
          },
          "metadata": {},
          "execution_count": 10
        }
      ]
    },
    {
      "cell_type": "markdown",
      "source": [
        "2.1 Cual fue la ganancia operacional total por retailer?"
      ],
      "metadata": {
        "id": "s547mBNpdIQL"
      }
    },
    {
      "cell_type": "code",
      "source": [
        "data.groupby(\"Retailer\")[\"Operating Profit\"].sum()"
      ],
      "metadata": {
        "id": "IVNUjHDqdsIG",
        "colab": {
          "base_uri": "https://localhost:8080/",
          "height": 304
        },
        "outputId": "cb57ffe7-1a7b-4eb2-c941-9592d6b0ffec"
      },
      "execution_count": 11,
      "outputs": [
        {
          "output_type": "execute_result",
          "data": {
            "text/plain": [
              "Retailer\n",
              "Amazon           28818503.31\n",
              "Foot Locker      80722124.81\n",
              "Kohl's           36811252.58\n",
              "Sports Direct    74332954.96\n",
              "Walmart          25782052.61\n",
              "West Gear        85667873.18\n",
              "Name: Operating Profit, dtype: float64"
            ],
            "text/html": [
              "<div>\n",
              "<style scoped>\n",
              "    .dataframe tbody tr th:only-of-type {\n",
              "        vertical-align: middle;\n",
              "    }\n",
              "\n",
              "    .dataframe tbody tr th {\n",
              "        vertical-align: top;\n",
              "    }\n",
              "\n",
              "    .dataframe thead th {\n",
              "        text-align: right;\n",
              "    }\n",
              "</style>\n",
              "<table border=\"1\" class=\"dataframe\">\n",
              "  <thead>\n",
              "    <tr style=\"text-align: right;\">\n",
              "      <th></th>\n",
              "      <th>Operating Profit</th>\n",
              "    </tr>\n",
              "    <tr>\n",
              "      <th>Retailer</th>\n",
              "      <th></th>\n",
              "    </tr>\n",
              "  </thead>\n",
              "  <tbody>\n",
              "    <tr>\n",
              "      <th>Amazon</th>\n",
              "      <td>28818503.31</td>\n",
              "    </tr>\n",
              "    <tr>\n",
              "      <th>Foot Locker</th>\n",
              "      <td>80722124.81</td>\n",
              "    </tr>\n",
              "    <tr>\n",
              "      <th>Kohl's</th>\n",
              "      <td>36811252.58</td>\n",
              "    </tr>\n",
              "    <tr>\n",
              "      <th>Sports Direct</th>\n",
              "      <td>74332954.96</td>\n",
              "    </tr>\n",
              "    <tr>\n",
              "      <th>Walmart</th>\n",
              "      <td>25782052.61</td>\n",
              "    </tr>\n",
              "    <tr>\n",
              "      <th>West Gear</th>\n",
              "      <td>85667873.18</td>\n",
              "    </tr>\n",
              "  </tbody>\n",
              "</table>\n",
              "</div><br><label><b>dtype:</b> float64</label>"
            ]
          },
          "metadata": {},
          "execution_count": 11
        }
      ]
    },
    {
      "cell_type": "markdown",
      "source": [
        "2.3 Tomando los dos resultados de arriba: El ganancia operacional total y las ventas totales divida ambos resultados. Le tiene que dar el margen total de cada Retailer."
      ],
      "metadata": {
        "id": "y-zjJuXNgvIH"
      }
    },
    {
      "cell_type": "code",
      "source": [
        "data.groupby(\"Retailer\")[\"Total Sales\"].sum()/data.groupby(\"Retailer\")[\"Operating Profit\"].sum()"
      ],
      "metadata": {
        "id": "YVsgR-ekd3aU",
        "colab": {
          "base_uri": "https://localhost:8080/",
          "height": 304
        },
        "outputId": "fcb1cc78-1bab-4585-9ba1-97c5eca69879"
      },
      "execution_count": 12,
      "outputs": [
        {
          "output_type": "execute_result",
          "data": {
            "text/plain": [
              "Retailer\n",
              "Amazon           2.696147\n",
              "Foot Locker      2.726572\n",
              "Kohl's           2.774009\n",
              "Sports Direct    2.454779\n",
              "Walmart          2.891873\n",
              "West Gear        2.836120\n",
              "dtype: float64"
            ],
            "text/html": [
              "<div>\n",
              "<style scoped>\n",
              "    .dataframe tbody tr th:only-of-type {\n",
              "        vertical-align: middle;\n",
              "    }\n",
              "\n",
              "    .dataframe tbody tr th {\n",
              "        vertical-align: top;\n",
              "    }\n",
              "\n",
              "    .dataframe thead th {\n",
              "        text-align: right;\n",
              "    }\n",
              "</style>\n",
              "<table border=\"1\" class=\"dataframe\">\n",
              "  <thead>\n",
              "    <tr style=\"text-align: right;\">\n",
              "      <th></th>\n",
              "      <th>0</th>\n",
              "    </tr>\n",
              "    <tr>\n",
              "      <th>Retailer</th>\n",
              "      <th></th>\n",
              "    </tr>\n",
              "  </thead>\n",
              "  <tbody>\n",
              "    <tr>\n",
              "      <th>Amazon</th>\n",
              "      <td>2.696147</td>\n",
              "    </tr>\n",
              "    <tr>\n",
              "      <th>Foot Locker</th>\n",
              "      <td>2.726572</td>\n",
              "    </tr>\n",
              "    <tr>\n",
              "      <th>Kohl's</th>\n",
              "      <td>2.774009</td>\n",
              "    </tr>\n",
              "    <tr>\n",
              "      <th>Sports Direct</th>\n",
              "      <td>2.454779</td>\n",
              "    </tr>\n",
              "    <tr>\n",
              "      <th>Walmart</th>\n",
              "      <td>2.891873</td>\n",
              "    </tr>\n",
              "    <tr>\n",
              "      <th>West Gear</th>\n",
              "      <td>2.836120</td>\n",
              "    </tr>\n",
              "  </tbody>\n",
              "</table>\n",
              "</div><br><label><b>dtype:</b> float64</label>"
            ]
          },
          "metadata": {},
          "execution_count": 12
        }
      ]
    },
    {
      "cell_type": "markdown",
      "source": [
        "2.4 Cual fue el margen operacional promedio por retailer?"
      ],
      "metadata": {
        "id": "DjsKB3DleGh5"
      }
    },
    {
      "cell_type": "code",
      "source": [
        "data.groupby(\"Retailer\")[\"Operating Margin\"].mean()"
      ],
      "metadata": {
        "id": "7bDTruZZdrBm",
        "colab": {
          "base_uri": "https://localhost:8080/",
          "height": 304
        },
        "outputId": "2d18fa40-d171-4765-e86f-5aa775a61102"
      },
      "execution_count": 13,
      "outputs": [
        {
          "output_type": "execute_result",
          "data": {
            "text/plain": [
              "Retailer\n",
              "Amazon           0.417871\n",
              "Foot Locker      0.417933\n",
              "Kohl's           0.419291\n",
              "Sports Direct    0.444892\n",
              "Walmart          0.406534\n",
              "West Gear        0.417856\n",
              "Name: Operating Margin, dtype: float64"
            ],
            "text/html": [
              "<div>\n",
              "<style scoped>\n",
              "    .dataframe tbody tr th:only-of-type {\n",
              "        vertical-align: middle;\n",
              "    }\n",
              "\n",
              "    .dataframe tbody tr th {\n",
              "        vertical-align: top;\n",
              "    }\n",
              "\n",
              "    .dataframe thead th {\n",
              "        text-align: right;\n",
              "    }\n",
              "</style>\n",
              "<table border=\"1\" class=\"dataframe\">\n",
              "  <thead>\n",
              "    <tr style=\"text-align: right;\">\n",
              "      <th></th>\n",
              "      <th>Operating Margin</th>\n",
              "    </tr>\n",
              "    <tr>\n",
              "      <th>Retailer</th>\n",
              "      <th></th>\n",
              "    </tr>\n",
              "  </thead>\n",
              "  <tbody>\n",
              "    <tr>\n",
              "      <th>Amazon</th>\n",
              "      <td>0.417871</td>\n",
              "    </tr>\n",
              "    <tr>\n",
              "      <th>Foot Locker</th>\n",
              "      <td>0.417933</td>\n",
              "    </tr>\n",
              "    <tr>\n",
              "      <th>Kohl's</th>\n",
              "      <td>0.419291</td>\n",
              "    </tr>\n",
              "    <tr>\n",
              "      <th>Sports Direct</th>\n",
              "      <td>0.444892</td>\n",
              "    </tr>\n",
              "    <tr>\n",
              "      <th>Walmart</th>\n",
              "      <td>0.406534</td>\n",
              "    </tr>\n",
              "    <tr>\n",
              "      <th>West Gear</th>\n",
              "      <td>0.417856</td>\n",
              "    </tr>\n",
              "  </tbody>\n",
              "</table>\n",
              "</div><br><label><b>dtype:</b> float64</label>"
            ]
          },
          "metadata": {},
          "execution_count": 13
        }
      ]
    },
    {
      "cell_type": "markdown",
      "source": [
        "2.5 Por que los dos resultados anteriores le dieron diferente? Argumente"
      ],
      "metadata": {
        "id": "YmJ4OroYhmhE"
      }
    },
    {
      "cell_type": "markdown",
      "source": [
        "El margen operacional calcula el promedio de cada margen de ganancia, mientras que el margen total toma en cuenta los ingresos, considerando el tamaño de cada venta"
      ],
      "metadata": {
        "id": "tVQYL_7lhqgi"
      }
    },
    {
      "cell_type": "markdown",
      "source": [
        "3.1 Retailer que mas unidades totales vende? Saque cuanto vende en unidades cada retailer y busque el mayor"
      ],
      "metadata": {
        "id": "tP-lnVrqeNid"
      }
    },
    {
      "cell_type": "code",
      "source": [
        "data.groupby(\"Retailer\")[\"Units Sold\"].sum().sort_values(ascending=False)"
      ],
      "metadata": {
        "colab": {
          "base_uri": "https://localhost:8080/",
          "height": 304
        },
        "id": "zK_TVDPSbaBT",
        "outputId": "2257ce72-8008-481d-e060-4c80b738de52"
      },
      "execution_count": 14,
      "outputs": [
        {
          "output_type": "execute_result",
          "data": {
            "text/plain": [
              "Retailer\n",
              "West Gear        625262\n",
              "Foot Locker      604369\n",
              "Sports Direct    557640\n",
              "Kohl's           287375\n",
              "Walmart          206225\n",
              "Amazon           197990\n",
              "Name: Units Sold, dtype: int64"
            ],
            "text/html": [
              "<div>\n",
              "<style scoped>\n",
              "    .dataframe tbody tr th:only-of-type {\n",
              "        vertical-align: middle;\n",
              "    }\n",
              "\n",
              "    .dataframe tbody tr th {\n",
              "        vertical-align: top;\n",
              "    }\n",
              "\n",
              "    .dataframe thead th {\n",
              "        text-align: right;\n",
              "    }\n",
              "</style>\n",
              "<table border=\"1\" class=\"dataframe\">\n",
              "  <thead>\n",
              "    <tr style=\"text-align: right;\">\n",
              "      <th></th>\n",
              "      <th>Units Sold</th>\n",
              "    </tr>\n",
              "    <tr>\n",
              "      <th>Retailer</th>\n",
              "      <th></th>\n",
              "    </tr>\n",
              "  </thead>\n",
              "  <tbody>\n",
              "    <tr>\n",
              "      <th>West Gear</th>\n",
              "      <td>625262</td>\n",
              "    </tr>\n",
              "    <tr>\n",
              "      <th>Foot Locker</th>\n",
              "      <td>604369</td>\n",
              "    </tr>\n",
              "    <tr>\n",
              "      <th>Sports Direct</th>\n",
              "      <td>557640</td>\n",
              "    </tr>\n",
              "    <tr>\n",
              "      <th>Kohl's</th>\n",
              "      <td>287375</td>\n",
              "    </tr>\n",
              "    <tr>\n",
              "      <th>Walmart</th>\n",
              "      <td>206225</td>\n",
              "    </tr>\n",
              "    <tr>\n",
              "      <th>Amazon</th>\n",
              "      <td>197990</td>\n",
              "    </tr>\n",
              "  </tbody>\n",
              "</table>\n",
              "</div><br><label><b>dtype:</b> int64</label>"
            ]
          },
          "metadata": {},
          "execution_count": 14
        }
      ]
    },
    {
      "cell_type": "markdown",
      "source": [
        "3.2 Cual fue el producto que mas unidades totales vendió?"
      ],
      "metadata": {
        "id": "R6AjU01lgeq9"
      }
    },
    {
      "cell_type": "code",
      "source": [
        "data.groupby(\"Product\")[\"Units Sold\"].sum().sort_values(ascending=False)"
      ],
      "metadata": {
        "id": "NgwCc3JAe_6L",
        "colab": {
          "base_uri": "https://localhost:8080/",
          "height": 304
        },
        "outputId": "4a96aeeb-8ab2-4f24-88da-fcfdca7263f9"
      },
      "execution_count": 15,
      "outputs": [
        {
          "output_type": "execute_result",
          "data": {
            "text/plain": [
              "Product\n",
              "Men's Street Footwear        593320\n",
              "Men's Athletic Footwear      435526\n",
              "Women's Apparel              433827\n",
              "Women's Street Footwear      392269\n",
              "Women's Athletic Footwear    317236\n",
              "Men's Apparel                306683\n",
              "Name: Units Sold, dtype: int64"
            ],
            "text/html": [
              "<div>\n",
              "<style scoped>\n",
              "    .dataframe tbody tr th:only-of-type {\n",
              "        vertical-align: middle;\n",
              "    }\n",
              "\n",
              "    .dataframe tbody tr th {\n",
              "        vertical-align: top;\n",
              "    }\n",
              "\n",
              "    .dataframe thead th {\n",
              "        text-align: right;\n",
              "    }\n",
              "</style>\n",
              "<table border=\"1\" class=\"dataframe\">\n",
              "  <thead>\n",
              "    <tr style=\"text-align: right;\">\n",
              "      <th></th>\n",
              "      <th>Units Sold</th>\n",
              "    </tr>\n",
              "    <tr>\n",
              "      <th>Product</th>\n",
              "      <th></th>\n",
              "    </tr>\n",
              "  </thead>\n",
              "  <tbody>\n",
              "    <tr>\n",
              "      <th>Men's Street Footwear</th>\n",
              "      <td>593320</td>\n",
              "    </tr>\n",
              "    <tr>\n",
              "      <th>Men's Athletic Footwear</th>\n",
              "      <td>435526</td>\n",
              "    </tr>\n",
              "    <tr>\n",
              "      <th>Women's Apparel</th>\n",
              "      <td>433827</td>\n",
              "    </tr>\n",
              "    <tr>\n",
              "      <th>Women's Street Footwear</th>\n",
              "      <td>392269</td>\n",
              "    </tr>\n",
              "    <tr>\n",
              "      <th>Women's Athletic Footwear</th>\n",
              "      <td>317236</td>\n",
              "    </tr>\n",
              "    <tr>\n",
              "      <th>Men's Apparel</th>\n",
              "      <td>306683</td>\n",
              "    </tr>\n",
              "  </tbody>\n",
              "</table>\n",
              "</div><br><label><b>dtype:</b> int64</label>"
            ]
          },
          "metadata": {},
          "execution_count": 15
        }
      ]
    },
    {
      "cell_type": "markdown",
      "source": [
        "3.3 Cual es el metodo de venta que mas ventas totales tuvo y más ventas promedio"
      ],
      "metadata": {
        "id": "AcwamUt_gUtH"
      }
    },
    {
      "cell_type": "code",
      "source": [
        "data.groupby(\"Sales Method\")[\"Total Sales\"].sum().sort_values(ascending=False)"
      ],
      "metadata": {
        "id": "n2MXmpekfKZH",
        "colab": {
          "base_uri": "https://localhost:8080/",
          "height": 210
        },
        "outputId": "6de40dcb-4dfb-4970-df60-99e96b5b5b06"
      },
      "execution_count": 16,
      "outputs": [
        {
          "output_type": "execute_result",
          "data": {
            "text/plain": [
              "Sales Method\n",
              "In-store    356643750.0\n",
              "Outlet      295585493.0\n",
              "Online      247672882.0\n",
              "Name: Total Sales, dtype: float64"
            ],
            "text/html": [
              "<div>\n",
              "<style scoped>\n",
              "    .dataframe tbody tr th:only-of-type {\n",
              "        vertical-align: middle;\n",
              "    }\n",
              "\n",
              "    .dataframe tbody tr th {\n",
              "        vertical-align: top;\n",
              "    }\n",
              "\n",
              "    .dataframe thead th {\n",
              "        text-align: right;\n",
              "    }\n",
              "</style>\n",
              "<table border=\"1\" class=\"dataframe\">\n",
              "  <thead>\n",
              "    <tr style=\"text-align: right;\">\n",
              "      <th></th>\n",
              "      <th>Total Sales</th>\n",
              "    </tr>\n",
              "    <tr>\n",
              "      <th>Sales Method</th>\n",
              "      <th></th>\n",
              "    </tr>\n",
              "  </thead>\n",
              "  <tbody>\n",
              "    <tr>\n",
              "      <th>In-store</th>\n",
              "      <td>356643750.0</td>\n",
              "    </tr>\n",
              "    <tr>\n",
              "      <th>Outlet</th>\n",
              "      <td>295585493.0</td>\n",
              "    </tr>\n",
              "    <tr>\n",
              "      <th>Online</th>\n",
              "      <td>247672882.0</td>\n",
              "    </tr>\n",
              "  </tbody>\n",
              "</table>\n",
              "</div><br><label><b>dtype:</b> float64</label>"
            ]
          },
          "metadata": {},
          "execution_count": 16
        }
      ]
    },
    {
      "cell_type": "markdown",
      "source": [
        "3.4 Cual Fue el estado que más ventas totales tuvo ?"
      ],
      "metadata": {
        "id": "e7FNpAd5ilp5"
      }
    },
    {
      "cell_type": "code",
      "source": [
        "data.groupby(\"State\")[\"Total Sales\"].sum().sort_values(ascending=False)"
      ],
      "metadata": {
        "id": "JKcFXeKHip-V",
        "colab": {
          "base_uri": "https://localhost:8080/",
          "height": 1000
        },
        "outputId": "69ccf2f0-7f6b-48ed-92cd-0a3cf7408e7f"
      },
      "execution_count": 17,
      "outputs": [
        {
          "output_type": "execute_result",
          "data": {
            "text/plain": [
              "State\n",
              "New York          64229039.0\n",
              "California        60174133.0\n",
              "Florida           59283714.0\n",
              "Texas             46359746.0\n",
              "South Carolina    29285637.0\n",
              "Washington        26330718.0\n",
              "North Carolina    23956531.0\n",
              "Louisiana         23750781.0\n",
              "Hawaii            22282457.0\n",
              "Virginia          21575040.0\n",
              "Oregon            21349674.0\n",
              "Colorado          20996536.0\n",
              "Nevada            20858509.0\n",
              "New Mexico        19865016.0\n",
              "Idaho             19276878.0\n",
              "Georgia           18997466.0\n",
              "Michigan          18625433.0\n",
              "Wyoming           18577517.0\n",
              "Ohio              18484583.0\n",
              "Tennessee         18067440.0\n",
              "Alabama           17633424.0\n",
              "New Hampshire     16411667.0\n",
              "Arizona           15782221.0\n",
              "Montana           15710886.0\n",
              "Mississippi       15591709.0\n",
              "Alaska            14753103.0\n",
              "Vermont           14352923.0\n",
              "Arkansas          12639347.0\n",
              "Delaware          12298412.0\n",
              "Connecticut       11573448.0\n",
              "Massachusetts     11076810.0\n",
              "West Virginia     10689160.0\n",
              "Oklahoma          10620734.0\n",
              "Pennsylvania      10357519.0\n",
              "Kentucky          10072848.0\n",
              "Kansas             9972864.0\n",
              "New Jersey         9934246.0\n",
              "Illinois           9797488.0\n",
              "Utah               9696420.0\n",
              "Missouri           9683265.0\n",
              "Maine              9195978.0\n",
              "Indiana            8836198.0\n",
              "South Dakota       8495576.0\n",
              "Rhode Island       8446806.0\n",
              "Maryland           7758059.0\n",
              "North Dakota       7735580.0\n",
              "Wisconsin          7727469.0\n",
              "Iowa               7424011.0\n",
              "Minnesota          7378068.0\n",
              "Nebraska           5929038.0\n",
              "Name: Total Sales, dtype: float64"
            ],
            "text/html": [
              "<div>\n",
              "<style scoped>\n",
              "    .dataframe tbody tr th:only-of-type {\n",
              "        vertical-align: middle;\n",
              "    }\n",
              "\n",
              "    .dataframe tbody tr th {\n",
              "        vertical-align: top;\n",
              "    }\n",
              "\n",
              "    .dataframe thead th {\n",
              "        text-align: right;\n",
              "    }\n",
              "</style>\n",
              "<table border=\"1\" class=\"dataframe\">\n",
              "  <thead>\n",
              "    <tr style=\"text-align: right;\">\n",
              "      <th></th>\n",
              "      <th>Total Sales</th>\n",
              "    </tr>\n",
              "    <tr>\n",
              "      <th>State</th>\n",
              "      <th></th>\n",
              "    </tr>\n",
              "  </thead>\n",
              "  <tbody>\n",
              "    <tr>\n",
              "      <th>New York</th>\n",
              "      <td>64229039.0</td>\n",
              "    </tr>\n",
              "    <tr>\n",
              "      <th>California</th>\n",
              "      <td>60174133.0</td>\n",
              "    </tr>\n",
              "    <tr>\n",
              "      <th>Florida</th>\n",
              "      <td>59283714.0</td>\n",
              "    </tr>\n",
              "    <tr>\n",
              "      <th>Texas</th>\n",
              "      <td>46359746.0</td>\n",
              "    </tr>\n",
              "    <tr>\n",
              "      <th>South Carolina</th>\n",
              "      <td>29285637.0</td>\n",
              "    </tr>\n",
              "    <tr>\n",
              "      <th>Washington</th>\n",
              "      <td>26330718.0</td>\n",
              "    </tr>\n",
              "    <tr>\n",
              "      <th>North Carolina</th>\n",
              "      <td>23956531.0</td>\n",
              "    </tr>\n",
              "    <tr>\n",
              "      <th>Louisiana</th>\n",
              "      <td>23750781.0</td>\n",
              "    </tr>\n",
              "    <tr>\n",
              "      <th>Hawaii</th>\n",
              "      <td>22282457.0</td>\n",
              "    </tr>\n",
              "    <tr>\n",
              "      <th>Virginia</th>\n",
              "      <td>21575040.0</td>\n",
              "    </tr>\n",
              "    <tr>\n",
              "      <th>Oregon</th>\n",
              "      <td>21349674.0</td>\n",
              "    </tr>\n",
              "    <tr>\n",
              "      <th>Colorado</th>\n",
              "      <td>20996536.0</td>\n",
              "    </tr>\n",
              "    <tr>\n",
              "      <th>Nevada</th>\n",
              "      <td>20858509.0</td>\n",
              "    </tr>\n",
              "    <tr>\n",
              "      <th>New Mexico</th>\n",
              "      <td>19865016.0</td>\n",
              "    </tr>\n",
              "    <tr>\n",
              "      <th>Idaho</th>\n",
              "      <td>19276878.0</td>\n",
              "    </tr>\n",
              "    <tr>\n",
              "      <th>Georgia</th>\n",
              "      <td>18997466.0</td>\n",
              "    </tr>\n",
              "    <tr>\n",
              "      <th>Michigan</th>\n",
              "      <td>18625433.0</td>\n",
              "    </tr>\n",
              "    <tr>\n",
              "      <th>Wyoming</th>\n",
              "      <td>18577517.0</td>\n",
              "    </tr>\n",
              "    <tr>\n",
              "      <th>Ohio</th>\n",
              "      <td>18484583.0</td>\n",
              "    </tr>\n",
              "    <tr>\n",
              "      <th>Tennessee</th>\n",
              "      <td>18067440.0</td>\n",
              "    </tr>\n",
              "    <tr>\n",
              "      <th>Alabama</th>\n",
              "      <td>17633424.0</td>\n",
              "    </tr>\n",
              "    <tr>\n",
              "      <th>New Hampshire</th>\n",
              "      <td>16411667.0</td>\n",
              "    </tr>\n",
              "    <tr>\n",
              "      <th>Arizona</th>\n",
              "      <td>15782221.0</td>\n",
              "    </tr>\n",
              "    <tr>\n",
              "      <th>Montana</th>\n",
              "      <td>15710886.0</td>\n",
              "    </tr>\n",
              "    <tr>\n",
              "      <th>Mississippi</th>\n",
              "      <td>15591709.0</td>\n",
              "    </tr>\n",
              "    <tr>\n",
              "      <th>Alaska</th>\n",
              "      <td>14753103.0</td>\n",
              "    </tr>\n",
              "    <tr>\n",
              "      <th>Vermont</th>\n",
              "      <td>14352923.0</td>\n",
              "    </tr>\n",
              "    <tr>\n",
              "      <th>Arkansas</th>\n",
              "      <td>12639347.0</td>\n",
              "    </tr>\n",
              "    <tr>\n",
              "      <th>Delaware</th>\n",
              "      <td>12298412.0</td>\n",
              "    </tr>\n",
              "    <tr>\n",
              "      <th>Connecticut</th>\n",
              "      <td>11573448.0</td>\n",
              "    </tr>\n",
              "    <tr>\n",
              "      <th>Massachusetts</th>\n",
              "      <td>11076810.0</td>\n",
              "    </tr>\n",
              "    <tr>\n",
              "      <th>West Virginia</th>\n",
              "      <td>10689160.0</td>\n",
              "    </tr>\n",
              "    <tr>\n",
              "      <th>Oklahoma</th>\n",
              "      <td>10620734.0</td>\n",
              "    </tr>\n",
              "    <tr>\n",
              "      <th>Pennsylvania</th>\n",
              "      <td>10357519.0</td>\n",
              "    </tr>\n",
              "    <tr>\n",
              "      <th>Kentucky</th>\n",
              "      <td>10072848.0</td>\n",
              "    </tr>\n",
              "    <tr>\n",
              "      <th>Kansas</th>\n",
              "      <td>9972864.0</td>\n",
              "    </tr>\n",
              "    <tr>\n",
              "      <th>New Jersey</th>\n",
              "      <td>9934246.0</td>\n",
              "    </tr>\n",
              "    <tr>\n",
              "      <th>Illinois</th>\n",
              "      <td>9797488.0</td>\n",
              "    </tr>\n",
              "    <tr>\n",
              "      <th>Utah</th>\n",
              "      <td>9696420.0</td>\n",
              "    </tr>\n",
              "    <tr>\n",
              "      <th>Missouri</th>\n",
              "      <td>9683265.0</td>\n",
              "    </tr>\n",
              "    <tr>\n",
              "      <th>Maine</th>\n",
              "      <td>9195978.0</td>\n",
              "    </tr>\n",
              "    <tr>\n",
              "      <th>Indiana</th>\n",
              "      <td>8836198.0</td>\n",
              "    </tr>\n",
              "    <tr>\n",
              "      <th>South Dakota</th>\n",
              "      <td>8495576.0</td>\n",
              "    </tr>\n",
              "    <tr>\n",
              "      <th>Rhode Island</th>\n",
              "      <td>8446806.0</td>\n",
              "    </tr>\n",
              "    <tr>\n",
              "      <th>Maryland</th>\n",
              "      <td>7758059.0</td>\n",
              "    </tr>\n",
              "    <tr>\n",
              "      <th>North Dakota</th>\n",
              "      <td>7735580.0</td>\n",
              "    </tr>\n",
              "    <tr>\n",
              "      <th>Wisconsin</th>\n",
              "      <td>7727469.0</td>\n",
              "    </tr>\n",
              "    <tr>\n",
              "      <th>Iowa</th>\n",
              "      <td>7424011.0</td>\n",
              "    </tr>\n",
              "    <tr>\n",
              "      <th>Minnesota</th>\n",
              "      <td>7378068.0</td>\n",
              "    </tr>\n",
              "    <tr>\n",
              "      <th>Nebraska</th>\n",
              "      <td>5929038.0</td>\n",
              "    </tr>\n",
              "  </tbody>\n",
              "</table>\n",
              "</div><br><label><b>dtype:</b> float64</label>"
            ]
          },
          "metadata": {},
          "execution_count": 17
        }
      ]
    },
    {
      "cell_type": "markdown",
      "source": [
        "4. Teniendo en cuenta los resultados de arriba: 1. Tome el Retailer que vendio\n",
        "mas 2. El estado que vendio mas 3.el producto que vendio mas y el metodo de ventas que vendio más 4. Filtre y genere un dataframe con ellos 5. llamelo como un nuevo dataframe"
      ],
      "metadata": {
        "id": "shW2W9ugfJkf"
      }
    },
    {
      "cell_type": "code",
      "source": [
        "top_retailer = data.groupby(\"Retailer\")[\"Total Sales\"].sum().sort_values(ascending=False).head(1)\n",
        "top_state = data.groupby(\"State\")[\"Total Sales\"].sum().sort_values(ascending=False).head(1)\n",
        "top_product = data.groupby(\"Product\")[\"Units Sold\"].sum().sort_values(ascending=False).head(1)\n",
        "top_sales_method = data.groupby(\"Sales Method\")[\"Total Sales\"].sum().sort_values(ascending=False).head(1)\n",
        "\n",
        "print(\"Top Retailer:\\n\", top_retailer)\n",
        "print(\"\\nTop State:\\n\", top_state)\n",
        "print(\"\\nTop Product:\\n\", top_product)\n",
        "print(\"\\nTop Sales Method:\\n\", top_sales_method)\n",
        "\n",
        "retailer_name = top_retailer.index[0]\n",
        "state_name = top_state.index[0]\n",
        "product_name = top_product.index[0]\n",
        "sales_method_name = top_sales_method.index[0]\n",
        "\n",
        "filtered_df = data[\n",
        "    (data[\"Retailer\"] == retailer_name) &\n",
        "    (data[\"State\"] == state_name) &\n",
        "    (data[\"Product\"] == product_name) &\n",
        "    (data[\"Sales Method\"] == sales_method_name)]\n",
        "\n",
        "print(filtered_df)"
      ],
      "metadata": {
        "colab": {
          "base_uri": "https://localhost:8080/"
        },
        "id": "FbEmvCbx_69i",
        "outputId": "9203236b-1662-41dc-d043-81d7dfbf7121"
      },
      "execution_count": 28,
      "outputs": [
        {
          "output_type": "stream",
          "name": "stdout",
          "text": [
            "Top Retailer:\n",
            " Retailer\n",
            "West Gear    242964333.0\n",
            "Name: Total Sales, dtype: float64\n",
            "\n",
            "Top State:\n",
            " State\n",
            "New York    64229039.0\n",
            "Name: Total Sales, dtype: float64\n",
            "\n",
            "Top Product:\n",
            " Product\n",
            "Men's Street Footwear    593320\n",
            "Name: Units Sold, dtype: int64\n",
            "\n",
            "Top Sales Method:\n",
            " Sales Method\n",
            "In-store    356643750.0\n",
            "Name: Total Sales, dtype: float64\n",
            "       Retailer  Retailer ID Invoice Date     Region     State    City  \\\n",
            "1443  West Gear      1185732   2021-03-08  Northeast  New York  Albany   \n",
            "1449  West Gear      1185732   2021-04-09  Northeast  New York  Albany   \n",
            "1455  West Gear      1185732   2021-05-08  Northeast  New York  Albany   \n",
            "1461  West Gear      1185732   2021-06-10  Northeast  New York  Albany   \n",
            "1467  West Gear      1185732   2021-07-08  Northeast  New York  Albany   \n",
            "1473  West Gear      1185732   2021-08-09  Northeast  New York  Albany   \n",
            "1479  West Gear      1185732   2021-09-08  Northeast  New York  Albany   \n",
            "1485  West Gear      1185732   2021-10-10  Northeast  New York  Albany   \n",
            "1491  West Gear      1185732   2021-11-09  Northeast  New York  Albany   \n",
            "1497  West Gear      1185732   2021-12-08  Northeast  New York  Albany   \n",
            "\n",
            "                    Product  Price per Unit  Units Sold  Total Sales  \\\n",
            "1443  Men's Street Footwear            45.0         870     391500.0   \n",
            "1449  Men's Street Footwear            45.0         825     371250.0   \n",
            "1455  Men's Street Footwear            55.0         870     478500.0   \n",
            "1461  Men's Street Footwear            60.0         875     525000.0   \n",
            "1467  Men's Street Footwear            65.0         950     617500.0   \n",
            "1473  Men's Street Footwear            65.0         925     601250.0   \n",
            "1479  Men's Street Footwear            55.0         850     467500.0   \n",
            "1485  Men's Street Footwear            60.0         800     480000.0   \n",
            "1491  Men's Street Footwear            60.0         775     465000.0   \n",
            "1497  Men's Street Footwear            65.0         875     568750.0   \n",
            "\n",
            "      Operating Profit  Operating Margin Sales Method  \n",
            "1443          176175.0              0.45     In-store  \n",
            "1449          167062.5              0.45     In-store  \n",
            "1455          215325.0              0.45     In-store  \n",
            "1461          236250.0              0.45     In-store  \n",
            "1467          277875.0              0.45     In-store  \n",
            "1473          270562.5              0.45     In-store  \n",
            "1479          210375.0              0.45     In-store  \n",
            "1485          216000.0              0.45     In-store  \n",
            "1491          209250.0              0.45     In-store  \n",
            "1497          255937.5              0.45     In-store  \n"
          ]
        }
      ]
    }
  ]
}